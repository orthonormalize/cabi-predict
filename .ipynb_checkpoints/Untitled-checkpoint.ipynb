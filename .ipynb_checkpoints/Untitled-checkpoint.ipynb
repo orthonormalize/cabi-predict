{
 "cells": [
  {
   "cell_type": "code",
   "execution_count": 3,
   "metadata": {
    "collapsed": false
   },
   "outputs": [],
   "source": [
    "import requests\n",
    "from bs4 import BeautifulSoup"
   ]
  },
  {
   "cell_type": "code",
   "execution_count": 96,
   "metadata": {
    "collapsed": true
   },
   "outputs": [],
   "source": [
    "def getNumberFromOneTag_td(inTag):\n",
    "    tempOutString = re.findall('(?<=\\<td\\>).*(?=.*\\</td\\>)',str(inTag))[0]\n",
    "    tempOutString = ''.join([x for x in tempOutString if x in '0123456789.-'])\n",
    "    #tempOutString = ''.join([x for x in tempOutString if x not in '%'])\n",
    "    if (not(tempOutString)):\n",
    "        return 0\n",
    "    else:\n",
    "        return float(tempOutString)"
   ]
  },
  {
   "cell_type": "code",
   "execution_count": 2,
   "metadata": {
    "collapsed": false
   },
   "outputs": [
    {
     "data": {
      "text/plain": [
       "7"
      ]
     },
     "execution_count": 2,
     "metadata": {},
     "output_type": "execute_result"
    }
   ],
   "source": [
    "def getRealTimeDockStatusData(thisURL):\n",
    "    # reads XML file, converts to pandas dataFrame. Each row is one station.\n",
    "    #print('00a')\n",
    "    cabiBase = requests.get(thisURL)\n",
    "    cabiSoup = BeautifulSoup(cabiBase.content,\"lxml\")\n",
    "    #print('00b')\n",
    "    CC = cabiSoup.findChildren()\n",
    "    fnSoup = [x.name for x in CC]\n",
    "    sta = cabiSoup.findAll('station')\n",
    "    allContents = [x.contents for x in sta]\n",
    "    fieldsHere = [[re.search('(?<=\\<)\\w+(?=>)',str(entry)).group(0) \\\n",
    "                for entry in x] for x in allContents]\n",
    "    valuesHere = [[re.sub('&amp;','&',re.search('(?<=>)[^\\<]*(?=\\<)',str(entry)).group(0)) \\\n",
    "                             for entry in x] for x in allContents]              \n",
    "    dNew = {}\n",
    "    for ff in range(len(fieldsHere[0])):    # assumes they're all identical!\n",
    "        thisField = fieldsHere[0][ff]\n",
    "        thisType = getDtype(thisField)\n",
    "        try:\n",
    "            dNew.update({thisField:[thisType(x[ff]) for x in valuesHere]})\n",
    "        except:\n",
    "            temptemp = [x[ff] for x in valuesHere]\n",
    "            temp2 = [thisType(x) if (len(x)) else -999 for x in temptemp]\n",
    "            dNew.update({thisField:temp2})  \n",
    "    #overall_LastUpdate_sec = [int(CC[fnSoup.index('stations')].attrs['lastupdate'])/sec_2_msec]*(len(sta))\n",
    "    #zipIt = zip([1000000*OLU for OLU in overall_LastUpdate_sec],dNew['id'])\n",
    "    DF = pd.DataFrame(dNew)#,index=[sum(zz) for zz in zipIt])\n",
    "    return DF[['terminalname','nbbikes','nbemptydocks']]"
   ]
  },
  {
   "cell_type": "code",
   "execution_count": 6,
   "metadata": {
    "collapsed": true
   },
   "outputs": [],
   "source": [
    "wPage = 'http://w1.weather.gov/data/obhistory/KGRI.html'"
   ]
  },
  {
   "cell_type": "code",
   "execution_count": 7,
   "metadata": {
    "collapsed": false
   },
   "outputs": [],
   "source": [
    "wBase = requests.get(wPage)\n",
    "#wSoup = BeautifulSoup(cabiBase.content,\"lxml\")"
   ]
  },
  {
   "cell_type": "code",
   "execution_count": 10,
   "metadata": {
    "collapsed": false
   },
   "outputs": [],
   "source": [
    "wSoup = BeautifulSoup(wBase.content,\"lxml\")"
   ]
  },
  {
   "cell_type": "code",
   "execution_count": 11,
   "metadata": {
    "collapsed": false
   },
   "outputs": [
    {
     "data": {
      "text/plain": [
       "<!DOCTYPE HTML PUBLIC \"-//W3C//DTD HTML 4.0 Transitional//EN\">\\n<html><head><meta content=\"Leon Minton\" name=\"Author\"/><title>\\r\\n\\t\\t\\t\\t\\t\\t\\tNational Weather Service : Observed Weather for past 3 Days : Grand Island, Central Nebraska Regional Airport</title>\\n<link href=\"http://www.srh.noaa.gov/weather/images/fcicons/main.css\" rel=\"STYLESHEET\" type=\"text/css\"/>\\n</head><body background=\"/images/weather/fcicons/gray_background.gif\" bgcolor=\"#ffffff\" leftmargin=\"0\" marginheight=\"0\" marginwidth=\"0\" topmargin=\"0\">\\n<table background=\"/images/weather/fcicons/topbanner.jpg\" border=\"0\" cellpadding=\"0\" cellspacing=\"0\" width=\"670\">\\n<tr><td align=\"right\" height=\"19\"><a href=\"http://weather.gov\"><span class=\"nwslink\">weather.gov</span></a>\\xa0\\xa0\\xa0</td></tr></table>\\n<table border=\"0\" cellpadding=\"0\" cellspacing=\"0\" width=\"670\"><tr valign=\"top\">\\n<td rowspan=\"2\"><a href=\"http://www.noaa.gov\"><img alt=\"NOAA logo - Click to go to the NOAA homepage\" border=\"0\" height=\"78\" src=\"/images/weather/fcicons/noaaleft.jpg\" width=\"85\"/></a></td>\\n<td align=\"left\"><img alt=\"Weather observations for the past three days\" border=\"0\" height=\"20\" src=\"/images/weather/fcicons/3day_title.jpg\" width=\"500\"/></td>\\n<td align=\"right\" rowspan=\"2\"><a href=\"http://weather.gov\"><img alt=\"NWS logo\" border=\"0\" height=\"78\" src=\"/images/weather/fcicons/nwsright.jpg\" width=\"85\"/></a></td></tr>\\n<tr align=\"center\"><td background=\"/images/weather/fcicons/forecast_blank.jpg\" class=\"white1\" height=\"58\">Grand Island, Central Nebraska Regional Airport</td></tr></table>\\n<table background=\"/images/weather/fcicons/navbkgrnd.gif\" border=\"0\" cellpadding=\"0\" cellspacing=\"0\" width=\"670\">\\n<tr><td><img alt=\"\" border=\"0\" height=\"31\" src=\"/images/weather/fcicons/navbarleft.jpg\" width=\"94\"/></td>\\n<td align=\"left\" class=\"searchinput\"><form action=\"http://www.srh.noaa.gov/zipcity.php\" method=\"POST\"> <span class=\"yellow\">Enter Your \"City, ST\" or zip code</span>\\n<span class=\"searchinput\"><input name=\"inputstring\" size=\"15\" type=\"text\" value=\"\"/>\\xa0\\xa0 <input name=\"Go2\" type=\"submit\" value=\"Go\"/></span></form></td>\\n<td><a href=\"http://forecast.weather.gov/data/obhistory/metric/KGRI.html\"><span class=\"yellow\">metric</span></a>\\xa0\\xa0<a href=\"http://www.srh.noaa.gov/data/obhistory/spa/KGRI.html\"><span class=\"yellow\">en espa\\xf1ol</span></a></td></tr>\\n</table><table border=\"0\" cellpadding=\"2\" cellspacing=\"3\" width=\"670\"><tr align=\"center\" bgcolor=\"#b0c4de\"><th rowspan=\"3\" width=\"17\">D<br/>a<br/>t<br/>e</th><th rowspan=\"3\" width=\"32\">Time<br/>(cst)</th>\\n<th rowspan=\"3\" width=\"80\">Wind<br/>(mph)</th><th rowspan=\"3\" width=\"40\">Vis.<br/>(mi.)</th><th rowspan=\"3\" width=\"80\">Weather</th><th rowspan=\"3\" width=\"65\">Sky Cond.</th>\\n<th colspan=\"4\">Temperature (\\xbaF)</th><th rowspan=\"3\" width=\"65\">Relative<br/>Humidity</th><th rowspan=\"3\" width=\"80\">Wind<br/>Chill<br/>(\\xb0F)</th><th rowspan=\"3\" width=\"80\">Heat<br/>Index<br/>(\\xb0F)</th><th colspan=\"2\">Pressure</th><th colspan=\"3\">Precipitation (in.)</th></tr>\\n<tr align=\"center\" bgcolor=\"#b0c4de\"><th rowspan=\"2\" width=\"45\">Air</th><th rowspan=\"2\" width=\"26\">Dwpt</th><th colspan=\"2\">6 hour</th>\\n<th rowspan=\"2\" width=\"40\">altimeter<br/>(in)</th><th rowspan=\"2\" width=\"40\">sea level<br/>(mb)</th><th rowspan=\"2\" width=\"24\">1 hr</th>\\n<th rowspan=\"2\" width=\"24\">3 hr</th><th rowspan=\"2\" width=\"30\">6 hr</th></tr>\\n<tr align=\"center\" bgcolor=\"#b0c4de\"><th width=\"26\">Max.</th><th width=\"26\">Min.</th></tr><tr align=\"center\" bgcolor=\"#eeeeee\" valign=\"top\"><td>07</td><td align=\"right\">10:53</td><td>S 5</td><td>5.00</td><td align=\"left\"> Light Rain Fog/Mist</td><td>FEW007 BKN040 OVC055</td><td>53</td><td>53</td>\\n<td></td><td></td><td>100%</td><td>NA</td><td>NA</td><td>30.19</td><td>1022.7</td><td>0.03</td><td></td><td></td></tr><tr align=\"center\" bgcolor=\"#f5f5f5\" valign=\"top\"><td>07</td><td align=\"right\">09:53</td><td>S 7</td><td>4.00</td><td align=\"left\"> Light Rain Fog/Mist</td><td>FEW006 SCT018 OVC035</td><td>53</td><td>53</td>\\n<td></td><td></td><td>100%</td><td>NA</td><td>NA</td><td>30.18</td><td>1022.3</td><td>0.05</td><td></td><td></td></tr><tr align=\"center\" bgcolor=\"#eeeeee\" valign=\"top\"><td>07</td><td align=\"right\">08:53</td><td>S 6</td><td>4.00</td><td align=\"left\"> Light Rain Fog/Mist</td><td>SCT006 BKN021 OVC031</td><td>52</td><td>52</td>\\n<td></td><td></td><td>100%</td><td>NA</td><td>NA</td><td>30.16</td><td>1021.8</td><td>0.06</td><td>0.16</td><td></td></tr><tr align=\"center\" bgcolor=\"#f5f5f5\" valign=\"top\"><td>07</td><td align=\"right\">07:53</td><td>S 10</td><td>3.00</td><td align=\"left\"> Light Rain Fog/Mist</td><td>BKN005 BKN019 OVC080</td><td>52</td><td>52</td>\\n<td></td><td></td><td>100%</td><td>NA</td><td>NA</td><td>30.14</td><td>1020.9</td><td>0.06</td><td></td><td></td></tr><tr align=\"center\" bgcolor=\"#eeeeee\" valign=\"top\"><td>07</td><td align=\"right\">06:53</td><td>S 6</td><td>6.00</td><td align=\"left\"> Light Rain Fog/Mist</td><td>SCT005 BKN065 OVC080</td><td>52</td><td>52</td>\\n<td></td><td></td><td>100%</td><td>NA</td><td>NA</td><td>30.12</td><td>1020.2</td><td>0.04</td><td></td><td></td></tr><tr align=\"center\" bgcolor=\"#f5f5f5\" valign=\"top\"><td>07</td><td align=\"right\">05:53</td><td>S 10</td><td>7.00</td><td align=\"left\"> Light Rain</td><td>BKN009 BKN031 OVC070</td><td>52</td><td>52</td>\\n<td>57</td><td>52</td><td>100%</td><td>NA</td><td>NA</td><td>30.11</td><td>1019.7</td><td>0.03</td><td></td><td>0.06</td></tr><tr align=\"center\" bgcolor=\"#eeeeee\" valign=\"top\"><td>07</td><td align=\"right\">04:53</td><td>S 9</td><td>9.00</td><td align=\"left\"> Light Rain</td><td>BKN021 OVC060</td><td>52</td><td>51</td>\\n<td></td><td></td><td>97%</td><td>NA</td><td>NA</td><td>30.11</td><td>1019.6</td><td></td><td></td><td></td></tr><tr align=\"center\" bgcolor=\"#f5f5f5\" valign=\"top\"><td>07</td><td align=\"right\">03:53</td><td>S 9</td><td>10.00</td><td align=\"left\">Overcast</td><td>BKN023 BKN032 OVC060</td><td>52</td><td>51</td>\\n<td></td><td></td><td>97%</td><td>NA</td><td>NA</td><td>30.10</td><td>1019.3</td><td>0.01</td><td></td><td></td></tr><tr align=\"center\" bgcolor=\"#eeeeee\" valign=\"top\"><td>07</td><td align=\"right\">02:53</td><td>S 13</td><td>10.00</td><td align=\"left\"> Light Rain</td><td>BKN023 OVC065</td><td>53</td><td>51</td>\\n<td></td><td></td><td>93%</td><td>NA</td><td>NA</td><td>30.11</td><td>1019.6</td><td>0.02</td><td>0.02</td><td></td></tr><tr align=\"center\" bgcolor=\"#f5f5f5\" valign=\"top\"><td>07</td><td align=\"right\">01:53</td><td>S 12</td><td>10.00</td><td align=\"left\">Overcast</td><td>OVC026</td><td>54</td><td>50</td>\\n<td></td><td></td><td>87%</td><td>NA</td><td>NA</td><td>30.10</td><td>1019.5</td><td></td><td></td><td></td></tr><tr align=\"center\" bgcolor=\"#eeeeee\" valign=\"top\"><td>07</td><td align=\"right\">00:53</td><td>S 12</td><td>10.00</td><td align=\"left\"> Light Rain</td><td>FEW029 BKN075 OVC090</td><td>55</td><td>50</td>\\n<td></td><td></td><td>83%</td><td>NA</td><td>NA</td><td>30.10</td><td>1019.2</td><td></td><td></td><td></td></tr><tr align=\"center\" bgcolor=\"#f5f5f5\" valign=\"top\"><td>06</td><td align=\"right\">23:53</td><td>S 9</td><td>10.00</td><td align=\"left\">Overcast</td><td>OVC075</td><td>56</td><td>43</td>\\n<td>65</td><td>54</td><td>62%</td><td>NA</td><td>NA</td><td>30.11</td><td>1019.4</td><td></td><td></td><td></td></tr><tr align=\"center\" bgcolor=\"#eeeeee\" valign=\"top\"><td>06</td><td align=\"right\">22:53</td><td>S 8</td><td>10.00</td><td align=\"left\">A Few Clouds</td><td>FEW070 FEW085</td><td>54</td><td>42</td>\\n<td></td><td></td><td>64%</td><td>NA</td><td>NA</td><td>30.10</td><td>1019.4</td><td></td><td></td><td></td></tr><tr align=\"center\" bgcolor=\"#f5f5f5\" valign=\"top\"><td>06</td><td align=\"right\">21:53</td><td>S 8</td><td>10.00</td><td align=\"left\">Mostly Cloudy</td><td>BKN100</td><td>57</td><td>42</td>\\n<td></td><td></td><td>58%</td><td>NA</td><td>NA</td><td>30.10</td><td>1019.6</td><td></td><td></td><td></td></tr><tr align=\"center\" bgcolor=\"#eeeeee\" valign=\"top\"><td>06</td><td align=\"right\">20:53</td><td>S 13</td><td>10.00</td><td align=\"left\">Fair</td><td>CLR</td><td>59</td><td>41</td>\\n<td></td><td></td><td>51%</td><td>NA</td><td>NA</td><td>30.10</td><td>1019.5</td><td></td><td></td><td></td></tr><tr align=\"center\" bgcolor=\"#f5f5f5\" valign=\"top\"><td>06</td><td align=\"right\">19:53</td><td>S 13</td><td>10.00</td><td align=\"left\">Fair</td><td>CLR</td><td>61</td><td>41</td>\\n<td></td><td></td><td>48%</td><td>NA</td><td>NA</td><td>30.08</td><td>1019.0</td><td></td><td></td><td></td></tr><tr align=\"center\" bgcolor=\"#eeeeee\" valign=\"top\"><td>06</td><td align=\"right\">18:53</td><td>S 13</td><td>10.00</td><td align=\"left\">Partly Cloudy</td><td>SCT060</td><td>62</td><td>44</td>\\n<td></td><td></td><td>52%</td><td>NA</td><td>NA</td><td>30.08</td><td>1018.7</td><td></td><td></td><td></td></tr><tr align=\"center\" bgcolor=\"#f5f5f5\" valign=\"top\"><td>06</td><td align=\"right\">17:53</td><td>S 14</td><td>10.00</td><td align=\"left\">Overcast</td><td>BKN047 OVC055</td><td>65</td><td>45</td>\\n<td>68</td><td>64</td><td>49%</td><td>NA</td><td>NA</td><td>30.07</td><td>1018.3</td><td></td><td></td><td></td></tr><tr align=\"center\" bgcolor=\"#eeeeee\" valign=\"top\"><td>06</td><td align=\"right\">16:53</td><td>S 14</td><td>10.00</td><td align=\"left\">Overcast</td><td>OVC046</td><td>66</td><td>45</td>\\n<td></td><td></td><td>47%</td><td>NA</td><td>NA</td><td>30.07</td><td>1018.3</td><td></td><td></td><td></td></tr><tr align=\"center\" bgcolor=\"#f5f5f5\" valign=\"top\"><td>06</td><td align=\"right\">15:53</td><td>S 13</td><td>10.00</td><td align=\"left\">Overcast</td><td>OVC048</td><td>67</td><td>45</td>\\n<td></td><td></td><td>45%</td><td>NA</td><td>NA</td><td>30.07</td><td>1018.3</td><td></td><td></td><td></td></tr><tr align=\"center\" bgcolor=\"#eeeeee\" valign=\"top\"><td>06</td><td align=\"right\">14:53</td><td>S 17</td><td>10.00</td><td align=\"left\">Overcast</td><td>OVC047</td><td>67</td><td>44</td>\\n<td></td><td></td><td>44%</td><td>NA</td><td>NA</td><td>30.07</td><td>1018.5</td><td></td><td></td><td></td></tr><tr align=\"center\" bgcolor=\"#f5f5f5\" valign=\"top\"><td>06</td><td align=\"right\">13:53</td><td>S 16</td><td>10.00</td><td align=\"left\">Overcast</td><td>OVC045</td><td>65</td><td>46</td>\\n<td></td><td></td><td>51%</td><td>NA</td><td>NA</td><td>30.09</td><td>1019.1</td><td></td><td></td><td></td></tr><tr align=\"center\" bgcolor=\"#eeeeee\" valign=\"top\"><td>06</td><td align=\"right\">12:53</td><td>S 16</td><td>10.00</td><td align=\"left\">Overcast</td><td>OVC044</td><td>66</td><td>46</td>\\n<td></td><td></td><td>49%</td><td>NA</td><td>NA</td><td>30.10</td><td>1019.6</td><td></td><td></td><td></td></tr><tr align=\"center\" bgcolor=\"#f5f5f5\" valign=\"top\"><td>06</td><td align=\"right\">11:53</td><td>S 20 G 28</td><td>10.00</td><td align=\"left\">Partly Cloudy</td><td>FEW050 SCT075</td><td>68</td><td>44</td>\\n<td>69</td><td>50</td><td>42%</td><td>NA</td><td>NA</td><td>30.12</td><td>1020.2</td><td></td><td></td><td></td></tr><tr align=\"center\" bgcolor=\"#eeeeee\" valign=\"top\"><td>06</td><td align=\"right\">10:53</td><td>S 16</td><td>10.00</td><td align=\"left\">Fair</td><td>CLR</td><td>65</td><td>46</td>\\n<td></td><td></td><td>51%</td><td>NA</td><td>NA</td><td>30.14</td><td>1021.0</td><td></td><td></td><td></td></tr><tr align=\"center\" bgcolor=\"#f5f5f5\" valign=\"top\"><td>06</td><td align=\"right\">09:53</td><td>S 12</td><td>10.00</td><td align=\"left\">Overcast</td><td>OVC048</td><td>58</td><td>46</td>\\n<td></td><td></td><td>65%</td><td>NA</td><td>NA</td><td>30.16</td><td>1021.6</td><td></td><td></td><td></td></tr><tr align=\"center\" bgcolor=\"#eeeeee\" valign=\"top\"><td>06</td><td align=\"right\">08:53</td><td>S 12</td><td>10.00</td><td align=\"left\">A Few Clouds</td><td>FEW050</td><td>53</td><td>44</td>\\n<td></td><td></td><td>72%</td><td>NA</td><td>NA</td><td>30.17</td><td>1022.1</td><td></td><td></td><td></td></tr><tr align=\"center\" bgcolor=\"#f5f5f5\" valign=\"top\"><td>06</td><td align=\"right\">07:53</td><td>S 12</td><td>10.00</td><td align=\"left\">Partly Cloudy</td><td>FEW049 SCT065</td><td>51</td><td>44</td>\\n<td></td><td></td><td>77%</td><td>NA</td><td>NA</td><td>30.17</td><td>1022.0</td><td></td><td></td><td></td></tr><tr align=\"center\" bgcolor=\"#eeeeee\" valign=\"top\"><td>06</td><td align=\"right\">06:53</td><td>S 9</td><td>10.00</td><td align=\"left\">Partly Cloudy</td><td>SCT050</td><td>51</td><td>43</td>\\n<td></td><td></td><td>74%</td><td>NA</td><td>NA</td><td>30.16</td><td>1021.9</td><td></td><td></td><td></td></tr><tr align=\"center\" bgcolor=\"#f5f5f5\" valign=\"top\"><td>06</td><td align=\"right\">05:53</td><td>S 12</td><td>10.00</td><td align=\"left\">Mostly Cloudy</td><td>BKN047 BKN055</td><td>52</td><td>44</td>\\n<td>52</td><td>48</td><td>75%</td><td>NA</td><td>NA</td><td>30.17</td><td>1022.0</td><td></td><td></td><td></td></tr><tr align=\"center\" bgcolor=\"#eeeeee\" valign=\"top\"><td>06</td><td align=\"right\">04:53</td><td>SE 10</td><td>10.00</td><td align=\"left\">Partly Cloudy</td><td>SCT035</td><td>51</td><td>43</td>\\n<td></td><td></td><td>74%</td><td>NA</td><td>NA</td><td>30.17</td><td>1021.7</td><td></td><td></td><td></td></tr><tr align=\"center\" bgcolor=\"#f5f5f5\" valign=\"top\"><td>06</td><td align=\"right\">03:53</td><td>SE 9</td><td>10.00</td><td align=\"left\">Overcast</td><td>OVC038</td><td>50</td><td>43</td>\\n<td></td><td></td><td>77%</td><td>46</td><td>NA</td><td>30.17</td><td>1021.7</td><td></td><td></td><td></td></tr><tr align=\"center\" bgcolor=\"#eeeeee\" valign=\"top\"><td>06</td><td align=\"right\">02:53</td><td>S 10</td><td>10.00</td><td align=\"left\">Mostly Cloudy</td><td>BKN032</td><td>51</td><td>45</td>\\n<td></td><td></td><td>80%</td><td>NA</td><td>NA</td><td>30.17</td><td>1021.7</td><td></td><td></td><td></td></tr><tr align=\"center\" bgcolor=\"#f5f5f5\" valign=\"top\"><td>06</td><td align=\"right\">01:53</td><td>S 12</td><td>10.00</td><td align=\"left\">Fair</td><td>CLR</td><td>49</td><td>44</td>\\n<td></td><td></td><td>83%</td><td>44</td><td>NA</td><td>30.18</td><td>1022.0</td><td></td><td></td><td></td></tr><tr align=\"center\" bgcolor=\"#eeeeee\" valign=\"top\"><td>06</td><td align=\"right\">00:53</td><td>S 9</td><td>10.00</td><td align=\"left\">Fair</td><td>CLR</td><td>48</td><td>44</td>\\n<td></td><td></td><td>86%</td><td>44</td><td>NA</td><td>30.19</td><td>1022.5</td><td></td><td></td><td></td></tr><tr align=\"center\" bgcolor=\"#f5f5f5\" valign=\"top\"><td>05</td><td align=\"right\">23:53</td><td>S 8</td><td>10.00</td><td align=\"left\">Fair</td><td>CLR</td><td>48</td><td>43</td>\\n<td>61</td><td>47</td><td>83%</td><td>44</td><td>NA</td><td>30.20</td><td>1022.8</td><td></td><td></td><td></td></tr><tr align=\"center\" bgcolor=\"#eeeeee\" valign=\"top\"><td>05</td><td align=\"right\">22:53</td><td>S 8</td><td>10.00</td><td align=\"left\">Fair</td><td>CLR</td><td>49</td><td>43</td>\\n<td></td><td></td><td>80%</td><td>46</td><td>NA</td><td>30.21</td><td>1023.2</td><td></td><td></td><td></td></tr><tr align=\"center\" bgcolor=\"#f5f5f5\" valign=\"top\"><td>05</td><td align=\"right\">21:53</td><td>SE 7</td><td>10.00</td><td align=\"left\">Fair</td><td>CLR</td><td>51</td><td>45</td>\\n<td></td><td></td><td>80%</td><td>NA</td><td>NA</td><td>30.21</td><td>1023.4</td><td></td><td></td><td></td></tr><tr align=\"center\" bgcolor=\"#eeeeee\" valign=\"top\"><td>05</td><td align=\"right\">20:53</td><td>S 7</td><td>10.00</td><td align=\"left\">Fair</td><td>CLR</td><td>53</td><td>46</td>\\n<td></td><td></td><td>77%</td><td>NA</td><td>NA</td><td>30.20</td><td>1023.4</td><td></td><td></td><td></td></tr><tr align=\"center\" bgcolor=\"#f5f5f5\" valign=\"top\"><td>05</td><td align=\"right\">19:53</td><td>S 9</td><td>10.00</td><td align=\"left\">Fair</td><td>CLR</td><td>57</td><td>47</td>\\n<td></td><td></td><td>69%</td><td>NA</td><td>NA</td><td>30.20</td><td>1023.4</td><td></td><td></td><td></td></tr><tr align=\"center\" bgcolor=\"#eeeeee\" valign=\"top\"><td>05</td><td align=\"right\">18:53</td><td>S 9</td><td>10.00</td><td align=\"left\">Fair</td><td>CLR</td><td>59</td><td>47</td>\\n<td></td><td></td><td>64%</td><td>NA</td><td>NA</td><td>30.20</td><td>1023.2</td><td></td><td></td><td></td></tr><tr align=\"center\" bgcolor=\"#f5f5f5\" valign=\"top\"><td>05</td><td align=\"right\">17:53</td><td>S 9</td><td>10.00</td><td align=\"left\">Fair</td><td>CLR</td><td>62</td><td>46</td>\\n<td>71</td><td>61</td><td>56%</td><td>NA</td><td>NA</td><td>30.19</td><td>1022.9</td><td></td><td></td><td></td></tr><tr align=\"center\" bgcolor=\"#eeeeee\" valign=\"top\"><td>05</td><td align=\"right\">16:53</td><td>S 13</td><td>10.00</td><td align=\"left\">Fair</td><td>CLR</td><td>66</td><td>46</td>\\n<td></td><td></td><td>49%</td><td>NA</td><td>NA</td><td>30.18</td><td>1022.5</td><td></td><td></td><td></td></tr><tr align=\"center\" bgcolor=\"#f5f5f5\" valign=\"top\"><td>05</td><td align=\"right\">15:53</td><td>S 13</td><td>10.00</td><td align=\"left\">Fair</td><td>CLR</td><td>69</td><td>44</td>\\n<td></td><td></td><td>41%</td><td>NA</td><td>NA</td><td>30.19</td><td>1022.3</td><td></td><td></td><td></td></tr><tr align=\"center\" bgcolor=\"#eeeeee\" valign=\"top\"><td>05</td><td align=\"right\">14:53</td><td>S 17</td><td>10.00</td><td align=\"left\">Fair</td><td>CLR</td><td>70</td><td>42</td>\\n<td></td><td></td><td>37%</td><td>NA</td><td>NA</td><td>30.20</td><td>1022.6</td><td></td><td></td><td></td></tr><tr align=\"center\" bgcolor=\"#f5f5f5\" valign=\"top\"><td>05</td><td align=\"right\">13:53</td><td>S 15</td><td>10.00</td><td align=\"left\">Fair</td><td>CLR</td><td>71</td><td>40</td>\\n<td></td><td></td><td>32%</td><td>NA</td><td>NA</td><td>30.21</td><td>1023.2</td><td></td><td></td><td></td></tr><tr align=\"center\" bgcolor=\"#eeeeee\" valign=\"top\"><td>05</td><td align=\"right\">12:53</td><td>S 17 G 24</td><td>10.00</td><td align=\"left\">Fair</td><td>CLR</td><td>70</td><td>40</td>\\n<td></td><td></td><td>34%</td><td>NA</td><td>NA</td><td>30.25</td><td>1024.2</td><td></td><td></td><td></td></tr><tr align=\"center\" bgcolor=\"#f5f5f5\" valign=\"top\"><td>05</td><td align=\"right\">11:53</td><td>S 15</td><td>10.00</td><td align=\"left\">Fair</td><td>CLR</td><td>69</td><td>42</td>\\n<td>69</td><td>42</td><td>38%</td><td>NA</td><td>NA</td><td>30.28</td><td>1025.2</td><td></td><td></td><td></td></tr><tr align=\"center\" bgcolor=\"#eeeeee\" valign=\"top\"><td>05</td><td align=\"right\">10:53</td><td>SW 16 G 21</td><td>10.00</td><td align=\"left\">Fair</td><td>CLR</td><td>65</td><td>41</td>\\n<td></td><td></td><td>42%</td><td>NA</td><td>NA</td><td>30.30</td><td>1026.1</td><td></td><td></td><td></td></tr><tr align=\"center\" bgcolor=\"#f5f5f5\" valign=\"top\"><td>05</td><td align=\"right\">09:53</td><td>S 12</td><td>10.00</td><td align=\"left\">Fair</td><td>CLR</td><td>61</td><td>40</td>\\n<td></td><td></td><td>46%</td><td>NA</td><td>NA</td><td>30.31</td><td>1026.3</td><td></td><td></td><td></td></tr><tr align=\"center\" bgcolor=\"#eeeeee\" valign=\"top\"><td>05</td><td align=\"right\">08:53</td><td>S 9</td><td>10.00</td><td align=\"left\">Fair</td><td>CLR</td><td>50</td><td>40</td>\\n<td></td><td></td><td>68%</td><td>46</td><td>NA</td><td>30.32</td><td>1027.2</td><td></td><td></td><td></td></tr><tr align=\"center\" bgcolor=\"#f5f5f5\" valign=\"top\"><td>05</td><td align=\"right\">07:53</td><td>S 6</td><td>10.00</td><td align=\"left\">Fair</td><td>CLR</td><td>44</td><td>39</td>\\n<td></td><td></td><td>83%</td><td>41</td><td>NA</td><td>30.31</td><td>1026.9</td><td></td><td></td><td></td></tr><tr align=\"center\" bgcolor=\"#eeeeee\" valign=\"top\"><td>05</td><td align=\"right\">06:53</td><td>S 3</td><td>10.00</td><td align=\"left\">Fair</td><td>CLR</td><td>44</td><td>38</td>\\n<td></td><td></td><td>79%</td><td>NA</td><td>NA</td><td>30.30</td><td>1026.9</td><td></td><td></td><td></td></tr><tr align=\"center\" bgcolor=\"#f5f5f5\" valign=\"top\"><td>05</td><td align=\"right\">05:53</td><td>SW 5</td><td>10.00</td><td align=\"left\">Fair</td><td>CLR</td><td>45</td><td>39</td>\\n<td>57</td><td>45</td><td>80%</td><td>42</td><td>NA</td><td>30.29</td><td>1026.4</td><td></td><td></td><td></td></tr><tr align=\"center\" bgcolor=\"#eeeeee\" valign=\"top\"><td>05</td><td align=\"right\">04:53</td><td>S 3</td><td>10.00</td><td align=\"left\">Fair</td><td>CLR</td><td>46</td><td>39</td>\\n<td></td><td></td><td>77%</td><td>NA</td><td>NA</td><td>30.29</td><td>1026.0</td><td></td><td></td><td></td></tr><tr align=\"center\" bgcolor=\"#f5f5f5\" valign=\"top\"><td>05</td><td align=\"right\">03:53</td><td>SW 9</td><td>10.00</td><td align=\"left\">Fair</td><td>CLR</td><td>50</td><td>39</td>\\n<td></td><td></td><td>66%</td><td>46</td><td>NA</td><td>30.28</td><td>1025.3</td><td></td><td></td><td></td></tr><tr align=\"center\" bgcolor=\"#eeeeee\" valign=\"top\"><td>05</td><td align=\"right\">02:53</td><td>SW 8</td><td>10.00</td><td align=\"left\">Fair</td><td>CLR</td><td>50</td><td>39</td>\\n<td></td><td></td><td>66%</td><td>47</td><td>NA</td><td>30.29</td><td>1025.6</td><td></td><td></td><td></td></tr><tr align=\"center\" bgcolor=\"#f5f5f5\" valign=\"top\"><td>05</td><td align=\"right\">01:53</td><td>SW 9</td><td>10.00</td><td align=\"left\">Fair</td><td>CLR</td><td>51</td><td>39</td>\\n<td></td><td></td><td>64%</td><td>NA</td><td>NA</td><td>30.29</td><td>1025.5</td><td></td><td></td><td></td></tr><tr align=\"center\" bgcolor=\"#eeeeee\" valign=\"top\"><td>05</td><td align=\"right\">00:53</td><td>SW 12</td><td>10.00</td><td align=\"left\">Fair</td><td>CLR</td><td>54</td><td>39</td>\\n<td></td><td></td><td>57%</td><td>NA</td><td>NA</td><td>30.30</td><td>1025.7</td><td></td><td></td><td></td></tr><tr align=\"center\" bgcolor=\"#f5f5f5\" valign=\"top\"><td>04</td><td align=\"right\">23:53</td><td>SW 12</td><td>10.00</td><td align=\"left\">Fair</td><td>CLR</td><td>57</td><td>39</td>\\n<td>65</td><td>56</td><td>51%</td><td>NA</td><td>NA</td><td>30.29</td><td>1025.5</td><td></td><td></td><td></td></tr><tr align=\"center\" bgcolor=\"#eeeeee\" valign=\"top\"><td>04</td><td align=\"right\">22:53</td><td>SW 10</td><td>10.00</td><td align=\"left\">Fair</td><td>CLR</td><td>58</td><td>39</td>\\n<td></td><td></td><td>50%</td><td>NA</td><td>NA</td><td>30.29</td><td>1025.8</td><td></td><td></td><td></td></tr><tr align=\"center\" bgcolor=\"#f5f5f5\" valign=\"top\"><td>04</td><td align=\"right\">21:53</td><td>S 9</td><td>10.00</td><td align=\"left\">Fair</td><td>CLR</td><td>60</td><td>40</td>\\n<td></td><td></td><td>48%</td><td>NA</td><td>NA</td><td>30.29</td><td>1026.0</td><td></td><td></td><td></td></tr><tr align=\"center\" bgcolor=\"#eeeeee\" valign=\"top\"><td>04</td><td align=\"right\">20:53</td><td>S 8</td><td>10.00</td><td align=\"left\">Fair</td><td>CLR</td><td>57</td><td>39</td>\\n<td></td><td></td><td>51%</td><td>NA</td><td>NA</td><td>30.29</td><td>1026.3</td><td></td><td></td><td></td></tr><tr align=\"center\" bgcolor=\"#f5f5f5\" valign=\"top\"><td>04</td><td align=\"right\">19:53</td><td>S 7</td><td>10.00</td><td align=\"left\">Fair</td><td>CLR</td><td>61</td><td>39</td>\\n<td></td><td></td><td>44%</td><td>NA</td><td>NA</td><td>30.29</td><td>1026.5</td><td></td><td></td><td></td></tr><tr align=\"center\" bgcolor=\"#eeeeee\" valign=\"top\"><td>04</td><td align=\"right\">18:53</td><td>S 8</td><td>10.00</td><td align=\"left\">Fair</td><td>CLR</td><td>60</td><td>39</td>\\n<td></td><td></td><td>46%</td><td>NA</td><td>NA</td><td>30.29</td><td>1026.6</td><td></td><td></td><td></td></tr><tr align=\"center\" bgcolor=\"#f5f5f5\" valign=\"top\"><td>04</td><td align=\"right\">17:53</td><td>SE 6</td><td>10.00</td><td align=\"left\">Fair</td><td>CLR</td><td>62</td><td>40</td>\\n<td>79</td><td>61</td><td>44%</td><td>NA</td><td>NA</td><td>30.29</td><td>1026.5</td><td></td><td></td><td></td></tr><tr align=\"center\" bgcolor=\"#eeeeee\" valign=\"top\"><td>04</td><td align=\"right\">16:53</td><td>Calm</td><td>10.00</td><td align=\"left\">Fair</td><td>CLR</td><td>72</td><td>38</td>\\n<td></td><td></td><td>29%</td><td>NA</td><td>NA</td><td>30.29</td><td>1026.3</td><td></td><td></td><td></td></tr><tr align=\"center\" bgcolor=\"#f5f5f5\" valign=\"top\"><td>04</td><td align=\"right\">15:53</td><td>W 5</td><td>10.00</td><td align=\"left\">Fair</td><td>CLR</td><td>75</td><td>38</td>\\n<td></td><td></td><td>26%</td><td>NA</td><td>NA</td><td>30.30</td><td>1026.4</td><td></td><td></td><td></td></tr><tr align=\"center\" bgcolor=\"#eeeeee\" valign=\"top\"><td>04</td><td align=\"right\">14:53</td><td>SW 8</td><td>10.00</td><td align=\"left\">Fair</td><td>CLR</td><td>77</td><td>37</td>\\n<td></td><td></td><td>24%</td><td>NA</td><td>77</td><td>30.31</td><td>1026.7</td><td></td><td></td><td></td></tr><tr align=\"center\" bgcolor=\"#f5f5f5\" valign=\"top\"><td>04</td><td align=\"right\">13:53</td><td>SW 8</td><td>10.00</td><td align=\"left\">Fair</td><td>CLR</td><td>77</td><td>37</td>\\n<td></td><td></td><td>24%</td><td>NA</td><td>77</td><td>30.33</td><td>1027.3</td><td></td><td></td><td></td></tr><tr align=\"center\" bgcolor=\"#eeeeee\" valign=\"top\"><td>04</td><td align=\"right\">12:53</td><td>Vrbl 3</td><td>10.00</td><td align=\"left\">Fair</td><td>CLR</td><td>74</td><td>37</td>\\n<td></td><td></td><td>26%</td><td>NA</td><td>NA</td><td>30.36</td><td>1028.1</td><td></td><td></td><td></td></tr><tr align=\"center\" bgcolor=\"#f5f5f5\" valign=\"top\"><td>04</td><td align=\"right\">11:53</td><td>S 7</td><td>10.00</td><td align=\"left\">Fair</td><td>CLR</td><td>70</td><td>37</td>\\n<td>70</td><td>36</td><td>30%</td><td>NA</td><td>NA</td><td>30.39</td><td>1029.4</td><td></td><td></td><td></td></tr><tr align=\"center\" bgcolor=\"#b0c4de\"><th rowspan=\"3\">D<br/>a<br/>t<br/>e</th><th rowspan=\"3\">Time<br/>(cst)</th>\\n<th rowspan=\"3\">Wind<br/>(mph)</th><th rowspan=\"3\">Vis.<br/>(mi.)</th><th rowspan=\"3\">Weather</th><th align=\"CENTER\" rowspan=\"3\">Sky Cond.</th>\\n<th rowspan=\"2\">Air</th><th rowspan=\"2\">Dwpt</th><th>Max.</th><th>Min.</th><th rowspan=\"3\" width=\"65\">Relative<br/>Humidity</th><th rowspan=\"3\" width=\"80\">Wind<br/>Chill<br/>(\\xb0F)</th><th rowspan=\"3\" width=\"80\">Heat<br/>Index<br/>(\\xb0F)</th><th rowspan=\"2\">altimeter<br/>(in.)</th><th rowspan=\"2\">sea level<br/>(mb)</th>\\n<th rowspan=\"2\">1 hr</th><th rowspan=\"2\">3 hr</th><th rowspan=\"2\">6 hr</th></tr>\\n<tr align=\"center\" bgcolor=\"#b0c4de\"><th colspan=\"2\">6 hour</th></tr><tr align=\"center\" bgcolor=\"#b0c4de\">\\n<th colspan=\"4\">Temperature (\\xbaF)</th><th colspan=\"2\">Pressure</th><th colspan=\"3\">Precipitation (in.)</th></tr></table>\\n<table border=\"0\" cellpadding=\"3\" cellspacing=\"0\" width=\"670\"><tr><td colspan=\"3\"><hr noshade=\"\" size=\"2\" width=\"100%\"/></td>\\n</tr><tr valign=\"top\"><td align=\"left\" class=\"gray\">National Weather Service<br/>Southern Region Headquarters<br/>\\r\\n\\t\\t\\t\\t\\t\\t\\tFort Worth, Texas<br/><a href=\"http://weather.gov/disclaimer\">Disclaimer</a><br/></td>\\n<td><form><input onclick=\"history.back()\" type=\"button\" value=\"Back to previous page\"/></form></td><td align=\"right\" class=\"gray\">\\r\\n\\t\\t\\t\\t\\t\\t\\tLast Modified: Febuary, 7 2012<br/><a href=\"http://weather.gov/privacy\">Privacy Policy</a></td>\\n</tr></table></body></html>"
      ]
     },
     "execution_count": 11,
     "metadata": {},
     "output_type": "execute_result"
    }
   ],
   "source": [
    "wSoup"
   ]
  },
  {
   "cell_type": "code",
   "execution_count": 12,
   "metadata": {
    "collapsed": false
   },
   "outputs": [
    {
     "data": {
      "text/plain": [
       "bs4.BeautifulSoup"
      ]
     },
     "execution_count": 12,
     "metadata": {},
     "output_type": "execute_result"
    }
   ],
   "source": [
    "type(wSoup)"
   ]
  },
  {
   "cell_type": "code",
   "execution_count": 13,
   "metadata": {
    "collapsed": false
   },
   "outputs": [
    {
     "data": {
      "text/plain": [
       "2"
      ]
     },
     "execution_count": 13,
     "metadata": {},
     "output_type": "execute_result"
    }
   ],
   "source": [
    "len(wSoup)"
   ]
  },
  {
   "cell_type": "code",
   "execution_count": 38,
   "metadata": {
    "collapsed": true
   },
   "outputs": [],
   "source": [
    "tt = wSoup.findAll('table')\n",
    "lenTT = [len(x) for x in tt]\n",
    "bigTable = tt[lenTT.index(max(lenTT))]"
   ]
  },
  {
   "cell_type": "code",
   "execution_count": 41,
   "metadata": {
    "collapsed": false
   },
   "outputs": [],
   "source": [
    "allTR = bigTable.findAll('tr')"
   ]
  },
  {
   "cell_type": "code",
   "execution_count": 50,
   "metadata": {
    "collapsed": false
   },
   "outputs": [],
   "source": [
    "numTDs = [len(x.findAll('td')) for x in allTR]\n",
    "firstDataRowDex = [(dex,x) for (dex,x) in enumerate(numTDs) if x>10][0][0]"
   ]
  },
  {
   "cell_type": "code",
   "execution_count": 54,
   "metadata": {
    "collapsed": false
   },
   "outputs": [
    {
     "data": {
      "text/plain": [
       "bs4.element.Tag"
      ]
     },
     "execution_count": 54,
     "metadata": {},
     "output_type": "execute_result"
    }
   ],
   "source": [
    "type(allTR[firstDataRowDex])"
   ]
  },
  {
   "cell_type": "code",
   "execution_count": 55,
   "metadata": {
    "collapsed": false
   },
   "outputs": [],
   "source": [
    "wData18 = allTR[firstDataRowDex].findAll('td')"
   ]
  },
  {
   "cell_type": "code",
   "execution_count": 56,
   "metadata": {
    "collapsed": false
   },
   "outputs": [
    {
     "data": {
      "text/plain": [
       "[<td>07</td>,\n",
       " <td align=\"right\">10:53</td>,\n",
       " <td>S 5</td>,\n",
       " <td>5.00</td>,\n",
       " <td align=\"left\"> Light Rain Fog/Mist</td>,\n",
       " <td>FEW007 BKN040 OVC055</td>,\n",
       " <td>53</td>,\n",
       " <td>53</td>,\n",
       " <td></td>,\n",
       " <td></td>,\n",
       " <td>100%</td>,\n",
       " <td>NA</td>,\n",
       " <td>NA</td>,\n",
       " <td>30.19</td>,\n",
       " <td>1022.7</td>,\n",
       " <td>0.03</td>,\n",
       " <td></td>,\n",
       " <td></td>]"
      ]
     },
     "execution_count": 56,
     "metadata": {},
     "output_type": "execute_result"
    }
   ],
   "source": [
    "wData18"
   ]
  },
  {
   "cell_type": "code",
   "execution_count": 58,
   "metadata": {
    "collapsed": false
   },
   "outputs": [],
   "source": [
    "import re"
   ]
  },
  {
   "cell_type": "code",
   "execution_count": 66,
   "metadata": {
    "collapsed": false
   },
   "outputs": [
    {
     "data": {
      "text/plain": [
       "['53']"
      ]
     },
     "execution_count": 66,
     "metadata": {},
     "output_type": "execute_result"
    }
   ],
   "source": [
    "re.findall('(?<=\\<td\\>).*(?=\\</td\\>)',str(wData18[6]))"
   ]
  },
  {
   "cell_type": "code",
   "execution_count": 61,
   "metadata": {
    "collapsed": false
   },
   "outputs": [
    {
     "data": {
      "text/plain": [
       "<td>53</td>"
      ]
     },
     "execution_count": 61,
     "metadata": {},
     "output_type": "execute_result"
    }
   ],
   "source": [
    "wData18[6]"
   ]
  },
  {
   "cell_type": "code",
   "execution_count": 62,
   "metadata": {
    "collapsed": false
   },
   "outputs": [
    {
     "data": {
      "text/plain": [
       "bs4.element.Tag"
      ]
     },
     "execution_count": 62,
     "metadata": {},
     "output_type": "execute_result"
    }
   ],
   "source": [
    "type(wData18[6])"
   ]
  },
  {
   "cell_type": "code",
   "execution_count": 63,
   "metadata": {
    "collapsed": false
   },
   "outputs": [
    {
     "data": {
      "text/plain": [
       "'<td>53</td>'"
      ]
     },
     "execution_count": 63,
     "metadata": {},
     "output_type": "execute_result"
    }
   ],
   "source": [
    "str(wData18[6])"
   ]
  },
  {
   "cell_type": "code",
   "execution_count": 97,
   "metadata": {
    "collapsed": false
   },
   "outputs": [],
   "source": [
    "wNow={}\n",
    "wNow['tempF'] = getNumberFromOneTag_td(wData18[6])\n",
    "wNow['RH'] = getNumberFromOneTag_td(wData18[10])\n",
    "wNow['windSpeed'] = getNumberFromOneTag_td(wData18[2])\n",
    "wNow['precip01h'] = getNumberFromOneTag_td(wData18[15])"
   ]
  },
  {
   "cell_type": "code",
   "execution_count": 98,
   "metadata": {
    "collapsed": false
   },
   "outputs": [
    {
     "data": {
      "text/plain": [
       "{'RH': 100.0, 'precip01h': 0.03, 'tempF': 53.0, 'windSpeed': 5.0}"
      ]
     },
     "execution_count": 98,
     "metadata": {},
     "output_type": "execute_result"
    }
   ],
   "source": [
    "wNow"
   ]
  },
  {
   "cell_type": "code",
   "execution_count": null,
   "metadata": {
    "collapsed": true
   },
   "outputs": [],
   "source": []
  }
 ],
 "metadata": {
  "anaconda-cloud": {},
  "kernelspec": {
   "display_name": "Python [conda env:env000]",
   "language": "python",
   "name": "conda-env-env000-py"
  },
  "language_info": {
   "codemirror_mode": {
    "name": "ipython",
    "version": 2
   },
   "file_extension": ".py",
   "mimetype": "text/x-python",
   "name": "python",
   "nbconvert_exporter": "python",
   "pygments_lexer": "ipython2",
   "version": "2.7.12"
  }
 },
 "nbformat": 4,
 "nbformat_minor": 1
}
